{
 "cells": [
  {
   "cell_type": "code",
   "execution_count": 2,
   "id": "36ee77be-6bcc-4d79-bcdf-a855f3cab079",
   "metadata": {
    "tags": []
   },
   "outputs": [],
   "source": [
    "# tester 2\n"
   ]
  },
  {
   "cell_type": "code",
   "execution_count": null,
   "id": "45bb5f70-5929-4d3c-b201-b171ed68169f",
   "metadata": {},
   "outputs": [],
   "source": []
  }
 ],
 "metadata": {
  "kernelspec": {
   "display_name": "THEpython3.9",
   "language": "python",
   "name": "thepython3.9"
  },
  "language_info": {
   "codemirror_mode": {
    "name": "ipython",
    "version": 3
   },
   "file_extension": ".py",
   "mimetype": "text/x-python",
   "name": "python",
   "nbconvert_exporter": "python",
   "pygments_lexer": "ipython3",
   "version": "3.9.18"
  }
 },
 "nbformat": 4,
 "nbformat_minor": 5
}
